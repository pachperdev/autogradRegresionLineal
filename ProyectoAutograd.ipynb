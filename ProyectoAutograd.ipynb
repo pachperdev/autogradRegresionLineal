{
  "nbformat": 4,
  "nbformat_minor": 0,
  "metadata": {
    "colab": {
      "name": "ProyectoAutograd.ipynb",
      "provenance": [],
      "collapsed_sections": [],
      "authorship_tag": "ABX9TyP1Mzj9K2aGeBHzQoXwXTyY",
      "include_colab_link": true
    },
    "kernelspec": {
      "name": "python3",
      "display_name": "Python 3"
    },
    "language_info": {
      "name": "python"
    }
  },
  "cells": [
    {
      "cell_type": "markdown",
      "metadata": {
        "id": "view-in-github",
        "colab_type": "text"
      },
      "source": [
        "<a href=\"https://colab.research.google.com/github/pachperdev/autogradRegresionLineal/blob/main/ProyectoAutograd.ipynb\" target=\"_parent\"><img src=\"https://colab.research.google.com/assets/colab-badge.svg\" alt=\"Open In Colab\"/></a>"
      ]
    },
    {
      "cell_type": "code",
      "metadata": {
        "id": "nuMU2ZZ478x2"
      },
      "source": [
        ""
      ],
      "execution_count": null,
      "outputs": []
    },
    {
      "cell_type": "code",
      "metadata": {
        "colab": {
          "base_uri": "https://localhost:8080/",
          "height": 282
        },
        "id": "sXwI3XdIPNNV",
        "outputId": "7e18fbfa-02c3-46e6-e317-6c4b283c8086"
      },
      "source": [
        "# Regresion lineal con Autograd\n",
        "# Este algorimo tiene la fucionalidad de generar datos aleatorios y predecir el comportamento futuro para la datos de entrada.\n",
        "# los datos aleatorios se representan con puntos y el el programa hace un calculo de la aproximacion estimada.\n",
        "# importamos librerias(Autograd, Matplot, Pytorch, etc)\n",
        "from __future__ import print_function\n",
        "import torch as t\n",
        "from torch.autograd import Variable as V\n",
        "from torch.autograd import Function\n",
        "from matplotlib import pyplot as plt\n",
        "from IPython import display\n",
        "\n",
        "t.manual_seed(1000)  # numero aleatorio de maquinas ejecutandose\n",
        "\n",
        "\n",
        "def get_fake_data(batch_size=8):  # datos fake\n",
        "    # Generar datos aleatorios\n",
        "    x = t.rand(batch_size, 1) * 20\n",
        "    y = x * 2 + (1 + t.randn(batch_size, 1)) * 3\n",
        "    return x, y\n",
        "\n",
        "\n",
        "# Grafico de la funcion generada\n",
        "x, y = get_fake_data()\n",
        "plt.scatter(x.squeeze().numpy(), y.squeeze().numpy())\n",
        "plt.show()\n",
        "\n",
        "# Parámetros iniciales aleatorios\n",
        "w = V(t.rand(1, 1), requires_grad=True)\n",
        "b = V(t.zeros(1, 1), requires_grad=True)\n",
        "\n",
        "lr = 0.001  # delta learning\n",
        "\n",
        "for ii in range(8000):\n",
        "    x, y = get_fake_data()\n",
        "    x, y = V(x), V(y)\n",
        "\n",
        "    y_pred = x.mm(w) + b.expand_as(y)\n",
        "    loss = 0.5 * (y_pred - y) ** 2\n",
        "    loss = loss.sum()\n",
        "\n",
        "    loss.backward()\n",
        "\n",
        "    w.data.sub_(lr * w.grad.data)\n",
        "    b.data.sub_(lr * b.grad.data)\n",
        "\n",
        "    w.grad.data.zero_()\n",
        "    b.grad.data.zero_()\n",
        "\n",
        "    if ii % 1000 == 0:\n",
        "        # Graficar\n",
        "        display.clear_output(wait=True)\n",
        "        x = t.arange(0, 20).view(-1, 1)\n",
        "        y = x.mm(w.data.long()) + b.data.expand_as(x)\n",
        "        # Estimada\n",
        "        plt.plot(x.numpy(), y.numpy())\n",
        "\n",
        "        x2, y2 = get_fake_data(batch_size=20)\n",
        "        # graf data\n",
        "        plt.scatter(x2.numpy(), y2.numpy())\n",
        "\n",
        "        plt.xlim(0, 20)\n",
        "        plt.ylim(0, 41)\n",
        "        plt.show()\n",
        "        plt.pause(0.5)\n",
        "print(w.data.squeeze().item(), b.data.squeeze().item)"
      ],
      "execution_count": 3,
      "outputs": [
        {
          "output_type": "display_data",
          "data": {
            "image/png": "[encoded data removed]",
            "text/plain": [
              "<Figure size 432x288 with 1 Axes>"
            ]
          },
          "metadata": {
            "needs_background": "light"
          }
        },
        {
          "output_type": "stream",
          "name": "stdout",
          "text": [
            "1.8774464130401611 <built-in method item of Tensor object at 0x7f88efd0e7d0>\n"
          ]
        }
      ]
    }
  ]
}